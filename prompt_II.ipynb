{
 "cells": [
  {
   "cell_type": "markdown",
   "metadata": {},
   "source": [
    "# What drives the price of a car?\n",
    "\n",
    "![](images/kurt.jpeg)"
   ]
  },
  {
   "cell_type": "markdown",
   "metadata": {},
   "source": [
    "**OVERVIEW**\n",
    "\n",
    "In this application, you will explore a dataset from Kaggle. The original dataset contained information on 3 million used cars. The provided dataset contains information on 426K cars to ensure speed of processing.  Your goal is to understand what factors make a car more or less expensive.  As a result of your analysis, you should provide clear recommendations to your client -- a used car dealership -- as to what consumers value in a used car."
   ]
  },
  {
   "cell_type": "markdown",
   "metadata": {},
   "source": [
    "### CRISP-DM Framework\n",
    "\n",
    "<center>\n",
    "    <img src = images/crisp.png width = 50%/>\n",
    "</center>\n",
    "\n",
    "\n",
    "To frame the task, throughout our practical applications, we will refer back to a standard process in industry for data projects called CRISP-DM.  This process provides a framework for working through a data problem.  Your first step in this application will be to read through a brief overview of CRISP-DM [here](https://mo-pcco.s3.us-east-1.amazonaws.com/BH-PCMLAI/module_11/readings_starter.zip).  After reading the overview, answer the questions below."
   ]
  },
  {
   "cell_type": "markdown",
   "metadata": {},
   "source": [
    "### Business Understanding\n",
    "\n",
    "From a business perspective, we are tasked with identifying key drivers for used car prices.  In the CRISP-DM overview, we are asked to convert this business framing to a data problem definition.  Using a few sentences, reframe the task as a data task with the appropriate technical vocabulary. "
   ]
  },
  {
   "cell_type": "markdown",
   "metadata": {},
   "source": [
    "> ##### Data Problem Definition\n",
    ">\n",
    "> We have been asked to identify the relevant features that help predict the price for used cars. This is framed as a regression problem with `price` as the target feature. We will need to explore, engineer, and select the explanatory features for final use in the model and explain the impacts they have on the target feature"
   ]
  },
  {
   "cell_type": "markdown",
   "metadata": {},
   "source": [
    "### Data Understanding\n",
    "\n",
    "After considering the business understanding, we want to get familiar with our data.  Write down some steps that you would take to get to know the dataset and identify any quality issues within.  Take time to get to know the dataset and explore what information it contains and how this could be used to inform your business understanding."
   ]
  },
  {
   "cell_type": "markdown",
   "metadata": {},
   "source": [
    "> ##### Steps to getting to know the data\n",
    ">\n",
    "> - Examine column names, types, and the data dictionary if available\n",
    "> - Examine the dataset for missing values\n",
    "> - Look at basic descriptive statistics for all columns\n",
    "> - Examine the plots/distributions of features\n",
    "> - Look at the correlations    "
   ]
  },
  {
   "cell_type": "code",
   "execution_count": 5,
   "metadata": {},
   "outputs": [],
   "source": [
    "# Import the necessary libraries\n",
    "import pandas as pd\n",
    "import numpy as np\n",
    "import seaborn as sns\n",
    "\n",
    "# Import supplementary functions\n",
    "from pyskim import skim"
   ]
  },
  {
   "cell_type": "code",
   "execution_count": 11,
   "metadata": {},
   "outputs": [
    {
     "data": {
      "text/plain": [
       "id                int64\n",
       "region           object\n",
       "price             int64\n",
       "year            float64\n",
       "manufacturer     object\n",
       "model            object\n",
       "condition        object\n",
       "cylinders        object\n",
       "fuel             object\n",
       "odometer        float64\n",
       "title_status     object\n",
       "transmission     object\n",
       "VIN              object\n",
       "drive            object\n",
       "size             object\n",
       "type             object\n",
       "paint_color      object\n",
       "state            object\n",
       "dtype: object"
      ]
     },
     "metadata": {},
     "output_type": "display_data"
    },
    {
     "data": {
      "text/plain": [
       "(426880, 18)"
      ]
     },
     "metadata": {},
     "output_type": "display_data"
    }
   ],
   "source": [
    "# Read in the data\n",
    "raw_vehicles = pd.read_csv('data/vehicles.csv')\n",
    "\n",
    "# Display features and data types\n",
    "display(raw_vehicles.dtypes)\n",
    "display(raw_vehicles.shape)"
   ]
  },
  {
   "cell_type": "code",
   "execution_count": 12,
   "metadata": {},
   "outputs": [
    {
     "data": {
      "text/plain": [
       "pandas.core.series.Series"
      ]
     },
     "metadata": {},
     "output_type": "display_data"
    }
   ],
   "source": [
    "# Generate table of % missing values by column\n",
    "missing_vals = raw_vehicles.isna().sum()/raw_vehicles.shape[0]\n",
    "display(type(missing_vals))"
   ]
  },
  {
   "cell_type": "code",
   "execution_count": 13,
   "metadata": {},
   "outputs": [
    {
     "name": "stdout",
     "output_type": "stream",
     "text": [
      "── Data Summary ────────────────────────────────────────────────────────────────────────────────────\n",
      "type                 value\n",
      "-----------------  -------\n",
      "Number of rows      426880\n",
      "Number of columns       18\n",
      "──────────────────────────────────────────────────\n",
      "Column type frequency:\n",
      "           Count\n",
      "-------  -------\n",
      "object        14\n",
      "int64          2\n",
      "float64        2\n",
      "\n",
      "── Variable type: number ───────────────────────────────────────────────────────────────────────────\n",
      "    name        na_count      mean        sd        p0       p25       p50       p75      p100  hist\n",
      "--  --------  ----------  --------  --------  --------  --------  --------  --------  --------  ----------\n",
      " 0  id                 0  7.31e+09  4.47e+06  7.21e+09  7.31e+09  7.31e+09  7.32e+09  7.32e+09  ▁▁▁▁▁▁▁▁▂▇\n",
      " 1  price              0  7.52e+04  1.22e+07  0         5.9e+03   1.4e+04   2.65e+04  3.74e+09  ▇▁▁▁▁▁▁▁▁▁\n",
      " 2  year            1205  2.01e+03  9.45      1.9e+03   2.01e+03  2.01e+03  2.02e+03  2.02e+03  ▁▁▁▁▁▁▁▁▃▇\n",
      " 3  odometer        4400  9.8e+04   2.14e+05  0         3.77e+04  8.55e+04  1.34e+05  1e+07     ▇▁▁▁▁▁▁▁▁▁\n",
      "\n",
      "── Variable type: object ───────────────────────────────────────────────────────────────────────────\n",
      "    name            na_count    n_unique  top_counts\n",
      "--  ------------  ----------  ----------  ----------------------------------------------------------------------\n",
      " 0  region                 0         404  columbus: 3608, jacksonville: 3562, spokane / coeur d'alene: 2988\n",
      " 1  manufacturer       17646          42  ford: 70985, chevrolet: 55064, toyota: 34202\n",
      " 2  model               5277       29649  f-150: 8009, silverado 1500: 5140, 1500: 4211\n",
      " 3  condition         174104           6  good: 121456, excellent: 101467, like new: 21178\n",
      " 4  cylinders         177678           8  6 cylinders: 94169, 4 cylinders: 77642, 8 cylinders: 72062\n",
      " 5  fuel                3013           5  gas: 356209, other: 30728, diesel: 30062\n",
      " 6  title_status        8242           6  clean: 405117, rebuilt: 7219, salvage: 3868\n",
      " 7  transmission        2556           3  automatic: 336524, other: 62682, manual: 25118\n",
      " 8  VIN               161042      118246  1FMJU1JT1HEA52352: 261, 3C6JR6DT3KG560649: 235, 1FTER1EH1LLA36301: 231\n",
      " 9  drive             130567           3  4wd: 131904, fwd: 105517, rwd: 58892\n",
      "10  size              306361           4  full-size: 63465, mid-size: 34476, compact: 19384\n",
      "11  type               92858          13  sedan: 87056, SUV: 77284, pickup: 43510\n",
      "12  paint_color       130203          12  white: 79285, black: 62861, silver: 42970\n",
      "13  state                  0          51  ca: 50614, fl: 28511, tx: 22945\n",
      "\n"
     ]
    }
   ],
   "source": [
    "# Look at the descriptive statistics for all of the columns\n",
    "skim(raw_vehicles)"
   ]
  },
  {
   "cell_type": "code",
   "execution_count": null,
   "metadata": {},
   "outputs": [
    {
     "data": {
      "text/plain": [
       "<Axes: ylabel='price'>"
      ]
     },
     "execution_count": 33,
     "metadata": {},
     "output_type": "execute_result"
    },
    {
     "data": {
      "image/png": "[encoded data removed]",
      "text/plain": [
       "<Figure size 640x480 with 1 Axes>"
      ]
     },
     "metadata": {},
     "output_type": "display_data"
    }
   ],
   "source": [
    "sns.violinplot(raw_vehicles['price'][raw_vehicles['price'] < 250_000)"
   ]
  },
  {
   "cell_type": "markdown",
   "metadata": {},
   "source": [
    "### Data Preparation\n",
    "\n",
    "After our initial exploration and fine-tuning of the business understanding, it is time to construct our final dataset prior to modeling.  Here, we want to make sure to handle any integrity issues and cleaning, the engineering of new features, any transformations that we believe should happen (scaling, logarithms, normalization, etc.), and general preparation for modeling with `sklearn`. "
   ]
  },
  {
   "cell_type": "code",
   "execution_count": 26,
   "metadata": {},
   "outputs": [
    {
     "name": "stdout",
     "output_type": "stream",
     "text": [
      "Dropped columns with more than 384192.0\n",
      "\n",
      "── Data Summary ────────────────────────────────────────────────────────────────────────────────────\n",
      "type                 value\n",
      "-----------------  -------\n",
      "Number of rows      389604\n",
      "Number of columns       11\n",
      "──────────────────────────────────────────────────\n",
      "Column type frequency:\n",
      "           Count\n",
      "-------  -------\n",
      "object         7\n",
      "int64          2\n",
      "float64        2\n",
      "\n",
      "── Variable type: number ───────────────────────────────────────────────────────────────────────────\n",
      "    name        na_count      mean        sd       p0       p25       p50       p75      p100  hist\n",
      "--  --------  ----------  --------  --------  -------  --------  --------  --------  --------  ----------\n",
      " 0  id                 0  7.31e+09  4.38e+06  7.3e+09  7.31e+09  7.31e+09  7.32e+09  7.32e+09  ▁▁▁▁▁▂▃▄▆▇\n",
      " 1  price              0  6.4e+04   1.14e+07  0        6e+03     1.4e+04   2.66e+04  3.74e+09  ▇▁▁▁▁▁▁▁▁▁\n",
      " 2  year               0  2.01e+03  8.64      1.9e+03  2.01e+03  2.01e+03  2.02e+03  2.02e+03  ▁▁▁▁▁▁▁▁▃▇\n",
      " 3  odometer           0  9.64e+04  1.91e+05  0        3.81e+04  8.58e+04  1.33e+05  1e+07     ▇▁▁▁▁▁▁▁▁▁\n",
      "\n",
      "── Variable type: object ───────────────────────────────────────────────────────────────────────────\n",
      "    name            na_count    n_unique  top_counts\n",
      "--  ------------  ----------  ----------  ------------------------------------------------------\n",
      " 0  region                 0         404  columbus: 3334, jacksonville: 3216, reno / tahoe: 2852\n",
      " 1  manufacturer           0          41  ford: 67811, chevrolet: 52326, toyota: 32509\n",
      " 2  model                  0       21860  f-150: 7786, silverado 1500: 4968, 1500: 4145\n",
      " 3  fuel                   0           5  gas: 329679, other: 28430, diesel: 24971\n",
      " 4  title_status           0           6  clean: 377138, rebuilt: 6826, salvage: 3625\n",
      " 5  transmission           0           3  automatic: 309260, other: 59376, manual: 20968\n",
      " 6  state                  0          51  ca: 45131, fl: 25790, tx: 21212\n",
      "\n"
     ]
    }
   ],
   "source": [
    "# Handle missing values\n",
    "\n",
    "# Eliminate columns with more than 10% missing values\n",
    "na_obs_threshold = round(raw_vehicles.shape[0]*.9,0)\n",
    "vehicles = raw_vehicles.dropna(thresh=na_obs_threshold, axis=1)\n",
    "print(f'Dropped columns with more than {na_obs_threshold}\\n')\n",
    "\n",
    "# Eliminate observation that are missing\n",
    "vehicles = vehicles.dropna(axis=0)\n",
    "\n",
    "# Verify missing values\n",
    "skim(vehicles)\n",
    "\n"
   ]
  },
  {
   "cell_type": "code",
   "execution_count": null,
   "metadata": {},
   "outputs": [],
   "source": [
    "# Exclude extreme outliers"
   ]
  },
  {
   "cell_type": "code",
   "execution_count": null,
   "metadata": {},
   "outputs": [],
   "source": []
  },
  {
   "cell_type": "code",
   "execution_count": null,
   "metadata": {},
   "outputs": [],
   "source": []
  },
  {
   "cell_type": "code",
   "execution_count": null,
   "metadata": {},
   "outputs": [],
   "source": []
  },
  {
   "cell_type": "markdown",
   "metadata": {},
   "source": [
    "### Modeling\n",
    "\n",
    "With your (almost?) final dataset in hand, it is now time to build some models.  Here, you should build a number of different regression models with the price as the target.  In building your models, you should explore different parameters and be sure to cross-validate your findings."
   ]
  },
  {
   "cell_type": "code",
   "execution_count": null,
   "metadata": {},
   "outputs": [],
   "source": []
  },
  {
   "cell_type": "code",
   "execution_count": null,
   "metadata": {},
   "outputs": [],
   "source": []
  },
  {
   "cell_type": "code",
   "execution_count": null,
   "metadata": {},
   "outputs": [],
   "source": []
  },
  {
   "cell_type": "code",
   "execution_count": null,
   "metadata": {},
   "outputs": [],
   "source": []
  },
  {
   "cell_type": "markdown",
   "metadata": {},
   "source": [
    "### Evaluation\n",
    "\n",
    "With some modeling accomplished, we aim to reflect on what we identify as a high-quality model and what we are able to learn from this.  We should review our business objective and explore how well we can provide meaningful insight into drivers of used car prices.  Your goal now is to distill your findings and determine whether the earlier phases need revisitation and adjustment or if you have information of value to bring back to your client."
   ]
  },
  {
   "cell_type": "code",
   "execution_count": null,
   "metadata": {},
   "outputs": [],
   "source": []
  },
  {
   "cell_type": "code",
   "execution_count": null,
   "metadata": {},
   "outputs": [],
   "source": []
  },
  {
   "cell_type": "code",
   "execution_count": null,
   "metadata": {},
   "outputs": [],
   "source": []
  },
  {
   "cell_type": "code",
   "execution_count": null,
   "metadata": {},
   "outputs": [],
   "source": []
  },
  {
   "cell_type": "code",
   "execution_count": null,
   "metadata": {},
   "outputs": [],
   "source": []
  },
  {
   "cell_type": "code",
   "execution_count": null,
   "metadata": {},
   "outputs": [],
   "source": []
  },
  {
   "cell_type": "markdown",
   "metadata": {},
   "source": [
    "### Deployment\n",
    "\n",
    "Now that we've settled on our models and findings, it is time to deliver the information to the client.  You should organize your work as a basic report that details your primary findings.  Keep in mind that your audience is a group of used car dealers interested in fine-tuning their inventory."
   ]
  },
  {
   "cell_type": "code",
   "execution_count": null,
   "metadata": {},
   "outputs": [],
   "source": []
  },
  {
   "cell_type": "code",
   "execution_count": null,
   "metadata": {},
   "outputs": [],
   "source": []
  },
  {
   "cell_type": "code",
   "execution_count": null,
   "metadata": {},
   "outputs": [],
   "source": []
  },
  {
   "cell_type": "code",
   "execution_count": null,
   "metadata": {},
   "outputs": [],
   "source": []
  },
  {
   "cell_type": "code",
   "execution_count": null,
   "metadata": {},
   "outputs": [],
   "source": []
  },
  {
   "cell_type": "code",
   "execution_count": null,
   "metadata": {},
   "outputs": [],
   "source": []
  },
  {
   "cell_type": "code",
   "execution_count": null,
   "metadata": {},
   "outputs": [],
   "source": []
  }
 ],
 "metadata": {
  "kernelspec": {
   "display_name": "my-py-env",
   "language": "python",
   "name": "python3"
  },
  "language_info": {
   "codemirror_mode": {
    "name": "ipython",
    "version": 3
   },
   "file_extension": ".py",
   "mimetype": "text/x-python",
   "name": "python",
   "nbconvert_exporter": "python",
   "pygments_lexer": "ipython3",
   "version": "3.11.10"
  },
  "widgets": {
   "application/vnd.jupyter.widget-state+json": {
    "state": {},
    "version_major": 2,
    "version_minor": 0
   }
  }
 },
 "nbformat": 4,
 "nbformat_minor": 4
}
